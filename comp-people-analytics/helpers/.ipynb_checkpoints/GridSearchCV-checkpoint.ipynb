{
 "cells": [
  {
   "cell_type": "code",
   "execution_count": null,
   "metadata": {},
   "outputs": [],
   "source": [
    "from sklearn.model_selection import GridSearchCV\n",
    "from imblearn.ensemble import BalancedRandomForestClassifier\n",
    "\n",
    "rf_clf = BalancedRandomForestClassifier()\n",
    "\n",
    "param_grid = { \n",
    "    'n_estimators': [5, 10]\n",
    "}\n",
    "\n",
    "CV_rfc_clf = GridSearchCV(estimator=rf_clf, param_grid=param_grid, cv=5)\n",
    "CV_rfc_clf.fit(X_train, y_train)\n",
    "print(CV_rfc_clf.best_params_)"
   ]
  },
  {
   "cell_type": "markdown",
   "metadata": {},
   "source": [
    "---"
   ]
  }
 ],
 "metadata": {
  "kernelspec": {
   "display_name": "Python 3",
   "language": "python",
   "name": "python3"
  },
  "language_info": {
   "codemirror_mode": {
    "name": "ipython",
    "version": 3
   },
   "file_extension": ".py",
   "mimetype": "text/x-python",
   "name": "python",
   "nbconvert_exporter": "python",
   "pygments_lexer": "ipython3",
   "version": "3.8.3"
  }
 },
 "nbformat": 4,
 "nbformat_minor": 4
}
