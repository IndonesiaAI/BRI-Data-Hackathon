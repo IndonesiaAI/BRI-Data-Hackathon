{
 "cells": [
  {
   "cell_type": "code",
   "execution_count": null,
   "metadata": {},
   "outputs": [],
   "source": [
    "# under-sampling\n",
    "df_people_0 = df_people[df_people['Best Performance'] == 0][:6000]\n",
    "df_people_1 = df_people[df_people['Best Performance'] == 1]\n",
    "\n",
    "df_people = pd.concat([df_people_0, df_people_1])\n",
    "\n",
    "sns.countplot(x='Best Performance', data=df_people)\n",
    "plt.show()"
   ]
  },
  {
   "cell_type": "code",
   "execution_count": null,
   "metadata": {},
   "outputs": [],
   "source": [
    "# over-sampling\n",
    "Xy_train = pd.concat([X_train, y_train], axis=1)\n",
    "Xy_train_0 = Xy_train[Xy_train['Best Performance'] == 0]\n",
    "Xy_train_1 = Xy_train[Xy_train['Best Performance'] == 1]\n",
    "\n",
    "Xy_train = pd.concat([Xy_train_0, Xy_train_1, Xy_train_1, Xy_train_1])\n",
    "\n",
    "X_train = Xy_train[Xy_train.columns[:-1]]\n",
    "y_train = Xy_train[['Best Performance']]"
   ]
  },
  {
   "cell_type": "markdown",
   "metadata": {},
   "source": [
    "---"
   ]
  }
 ],
 "metadata": {
  "kernelspec": {
   "display_name": "Python 3",
   "language": "python",
   "name": "python3"
  },
  "language_info": {
   "codemirror_mode": {
    "name": "ipython",
    "version": 3
   },
   "file_extension": ".py",
   "mimetype": "text/x-python",
   "name": "python",
   "nbconvert_exporter": "python",
   "pygments_lexer": "ipython3",
   "version": "3.8.3"
  }
 },
 "nbformat": 4,
 "nbformat_minor": 4
}
