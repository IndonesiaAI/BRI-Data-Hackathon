{
 "cells": [
  {
   "cell_type": "code",
   "execution_count": 1,
   "metadata": {},
   "outputs": [],
   "source": [
    "import datetime\n",
    "import numpy as np\n",
    "import pandas as pd\n",
    "import matplotlib.pyplot as plt\n",
    "import seaborn as sns\n",
    "\n",
    "import sklearn\n",
    "from sklearn import preprocessing\n",
    "from sklearn.preprocessing import LabelEncoder\n",
    "from sklearn.metrics import roc_curve, auc, roc_auc_score, classification_report, confusion_matrix\n",
    "\n",
    "from keras.models import Sequential\n",
    "from keras.layers import Dense"
   ]
  },
  {
   "cell_type": "code",
   "execution_count": 2,
   "metadata": {},
   "outputs": [],
   "source": [
    "seed = 20\n",
    "plt.style.use('seaborn')"
   ]
  },
  {
   "cell_type": "code",
   "execution_count": 3,
   "metadata": {},
   "outputs": [],
   "source": [
    "import warnings\n",
    "warnings.filterwarnings(\"ignore\")"
   ]
  },
  {
   "cell_type": "markdown",
   "metadata": {},
   "source": [
    "## Load Datasets"
   ]
  },
  {
   "cell_type": "code",
   "execution_count": 4,
   "metadata": {},
   "outputs": [],
   "source": [
    "df_people = pd.read_csv(\"./train.csv\")"
   ]
  },
  {
   "cell_type": "code",
   "execution_count": 5,
   "metadata": {},
   "outputs": [
    {
     "data": {
      "text/html": [
       "<div>\n",
       "<style scoped>\n",
       "    .dataframe tbody tr th:only-of-type {\n",
       "        vertical-align: middle;\n",
       "    }\n",
       "\n",
       "    .dataframe tbody tr th {\n",
       "        vertical-align: top;\n",
       "    }\n",
       "\n",
       "    .dataframe thead th {\n",
       "        text-align: right;\n",
       "    }\n",
       "</style>\n",
       "<table border=\"1\" class=\"dataframe\">\n",
       "  <thead>\n",
       "    <tr style=\"text-align: right;\">\n",
       "      <th></th>\n",
       "      <th>job_level</th>\n",
       "      <th>job_duration_in_current_job_level</th>\n",
       "      <th>person_level</th>\n",
       "      <th>job_duration_in_current_person_level</th>\n",
       "      <th>job_duration_in_current_branch</th>\n",
       "      <th>Employee_type</th>\n",
       "      <th>Employee_status</th>\n",
       "      <th>gender</th>\n",
       "      <th>age</th>\n",
       "      <th>marital_status_maried(Y/N)</th>\n",
       "      <th>...</th>\n",
       "      <th>assign_of_otherposition</th>\n",
       "      <th>annual leave</th>\n",
       "      <th>sick_leaves</th>\n",
       "      <th>Best Performance</th>\n",
       "      <th>Avg_achievement_%</th>\n",
       "      <th>Last_achievement_%</th>\n",
       "      <th>Achievement_above_100%_during3quartal</th>\n",
       "      <th>achievement_target_1</th>\n",
       "      <th>achievement_target_2</th>\n",
       "      <th>achievement_target_3</th>\n",
       "    </tr>\n",
       "  </thead>\n",
       "  <tbody>\n",
       "    <tr>\n",
       "      <th>0</th>\n",
       "      <td>JG05</td>\n",
       "      <td>8.00</td>\n",
       "      <td>PG06</td>\n",
       "      <td>8.00</td>\n",
       "      <td>0.50</td>\n",
       "      <td>RM_type_A</td>\n",
       "      <td>Permanent</td>\n",
       "      <td>Female</td>\n",
       "      <td>1964</td>\n",
       "      <td>Y</td>\n",
       "      <td>...</td>\n",
       "      <td>0</td>\n",
       "      <td>8</td>\n",
       "      <td>0</td>\n",
       "      <td>0</td>\n",
       "      <td>68.85</td>\n",
       "      <td>72.53</td>\n",
       "      <td>0.0</td>\n",
       "      <td>achiev_50%-100%</td>\n",
       "      <td>achiev_&lt; 50%</td>\n",
       "      <td>reached</td>\n",
       "    </tr>\n",
       "    <tr>\n",
       "      <th>1</th>\n",
       "      <td>JG04</td>\n",
       "      <td>5.17</td>\n",
       "      <td>PG04</td>\n",
       "      <td>2.00</td>\n",
       "      <td>1.25</td>\n",
       "      <td>RM_type_A</td>\n",
       "      <td>Permanent</td>\n",
       "      <td>Male</td>\n",
       "      <td>1979</td>\n",
       "      <td>Y</td>\n",
       "      <td>...</td>\n",
       "      <td>9</td>\n",
       "      <td>3</td>\n",
       "      <td>0</td>\n",
       "      <td>0</td>\n",
       "      <td>94.81</td>\n",
       "      <td>101.13</td>\n",
       "      <td>3.0</td>\n",
       "      <td>achiev_50%-100%</td>\n",
       "      <td>achiev_50%-100%</td>\n",
       "      <td>reached</td>\n",
       "    </tr>\n",
       "    <tr>\n",
       "      <th>2</th>\n",
       "      <td>JG04</td>\n",
       "      <td>1.83</td>\n",
       "      <td>PG03</td>\n",
       "      <td>1.83</td>\n",
       "      <td>1.50</td>\n",
       "      <td>RM_type_A</td>\n",
       "      <td>Permanent</td>\n",
       "      <td>Male</td>\n",
       "      <td>1980</td>\n",
       "      <td>Y</td>\n",
       "      <td>...</td>\n",
       "      <td>0</td>\n",
       "      <td>6</td>\n",
       "      <td>0</td>\n",
       "      <td>0</td>\n",
       "      <td>72.82</td>\n",
       "      <td>71.30</td>\n",
       "      <td>0.0</td>\n",
       "      <td>achiev_100%-150%</td>\n",
       "      <td>achiev_&lt; 50%</td>\n",
       "      <td>not_reached</td>\n",
       "    </tr>\n",
       "    <tr>\n",
       "      <th>3</th>\n",
       "      <td>JG04</td>\n",
       "      <td>7.92</td>\n",
       "      <td>PG04</td>\n",
       "      <td>4.00</td>\n",
       "      <td>0.17</td>\n",
       "      <td>RM_type_A</td>\n",
       "      <td>Permanent</td>\n",
       "      <td>Male</td>\n",
       "      <td>1984</td>\n",
       "      <td>Y</td>\n",
       "      <td>...</td>\n",
       "      <td>0</td>\n",
       "      <td>3</td>\n",
       "      <td>0</td>\n",
       "      <td>0</td>\n",
       "      <td>86.89</td>\n",
       "      <td>90.09</td>\n",
       "      <td>2.0</td>\n",
       "      <td>achiev_50%-100%</td>\n",
       "      <td>achiev_50%-100%</td>\n",
       "      <td>not_reached</td>\n",
       "    </tr>\n",
       "    <tr>\n",
       "      <th>4</th>\n",
       "      <td>JG04</td>\n",
       "      <td>1.83</td>\n",
       "      <td>PG03</td>\n",
       "      <td>1.83</td>\n",
       "      <td>2.08</td>\n",
       "      <td>RM_type_A</td>\n",
       "      <td>Permanent</td>\n",
       "      <td>Male</td>\n",
       "      <td>1984</td>\n",
       "      <td>Y</td>\n",
       "      <td>...</td>\n",
       "      <td>11</td>\n",
       "      <td>2</td>\n",
       "      <td>1</td>\n",
       "      <td>1</td>\n",
       "      <td>95.17</td>\n",
       "      <td>100.72</td>\n",
       "      <td>2.0</td>\n",
       "      <td>achiev_&lt; 50%</td>\n",
       "      <td>achiev_&gt; 1.5</td>\n",
       "      <td>not_reached</td>\n",
       "    </tr>\n",
       "  </tbody>\n",
       "</table>\n",
       "<p>5 rows × 30 columns</p>\n",
       "</div>"
      ],
      "text/plain": [
       "  job_level  job_duration_in_current_job_level person_level  \\\n",
       "0      JG05                               8.00         PG06   \n",
       "1      JG04                               5.17         PG04   \n",
       "2      JG04                               1.83         PG03   \n",
       "3      JG04                               7.92         PG04   \n",
       "4      JG04                               1.83         PG03   \n",
       "\n",
       "   job_duration_in_current_person_level  job_duration_in_current_branch  \\\n",
       "0                                  8.00                            0.50   \n",
       "1                                  2.00                            1.25   \n",
       "2                                  1.83                            1.50   \n",
       "3                                  4.00                            0.17   \n",
       "4                                  1.83                            2.08   \n",
       "\n",
       "  Employee_type Employee_status  gender   age marital_status_maried(Y/N)  ...  \\\n",
       "0     RM_type_A       Permanent  Female  1964                          Y  ...   \n",
       "1     RM_type_A       Permanent    Male  1979                          Y  ...   \n",
       "2     RM_type_A       Permanent    Male  1980                          Y  ...   \n",
       "3     RM_type_A       Permanent    Male  1984                          Y  ...   \n",
       "4     RM_type_A       Permanent    Male  1984                          Y  ...   \n",
       "\n",
       "   assign_of_otherposition  annual leave  sick_leaves Best Performance  \\\n",
       "0                        0             8            0                0   \n",
       "1                        9             3            0                0   \n",
       "2                        0             6            0                0   \n",
       "3                        0             3            0                0   \n",
       "4                       11             2            1                1   \n",
       "\n",
       "   Avg_achievement_% Last_achievement_%  \\\n",
       "0              68.85              72.53   \n",
       "1              94.81             101.13   \n",
       "2              72.82              71.30   \n",
       "3              86.89              90.09   \n",
       "4              95.17             100.72   \n",
       "\n",
       "   Achievement_above_100%_during3quartal  achievement_target_1  \\\n",
       "0                                    0.0       achiev_50%-100%   \n",
       "1                                    3.0       achiev_50%-100%   \n",
       "2                                    0.0      achiev_100%-150%   \n",
       "3                                    2.0       achiev_50%-100%   \n",
       "4                                    2.0          achiev_< 50%   \n",
       "\n",
       "   achievement_target_2  achievement_target_3  \n",
       "0          achiev_< 50%               reached  \n",
       "1       achiev_50%-100%               reached  \n",
       "2          achiev_< 50%           not_reached  \n",
       "3       achiev_50%-100%           not_reached  \n",
       "4          achiev_> 1.5           not_reached  \n",
       "\n",
       "[5 rows x 30 columns]"
      ]
     },
     "execution_count": 5,
     "metadata": {},
     "output_type": "execute_result"
    }
   ],
   "source": [
    "df_people.head()"
   ]
  },
  {
   "cell_type": "code",
   "execution_count": 6,
   "metadata": {},
   "outputs": [],
   "source": [
    "columns_to_keep = ['job_level', 'job_duration_in_current_job_level', 'person_level', \n",
    "                   'job_duration_in_current_person_level', 'job_duration_in_current_branch', 'Employee_type', \n",
    "                   'Employee_status', 'gender', 'age', 'marital_status_maried(Y/N)', 'number_of_dependences', \n",
    "                   'number_of_dependences (male)', 'number_of_dependences (female)', 'GPA', \n",
    "                   'job_duration_as_permanent_worker', 'job_duration_from_training', 'branch_rotation', \n",
    "                   'job_rotation', 'assign_of_otherposition', 'annual leave', 'sick_leaves', 'Avg_achievement_%', \n",
    "                   'Last_achievement_%', 'Achievement_above_100%_during3quartal', 'achievement_target_1', \n",
    "                   'achievement_target_2', 'achievement_target_3', 'Best Performance']\n",
    "\n",
    "df_people = df_people[columns_to_keep]"
   ]
  },
  {
   "cell_type": "code",
   "execution_count": 7,
   "metadata": {},
   "outputs": [],
   "source": [
    "# under-sampling\n",
    "# df_people_0 = df_people[df_people['Best Performance'] == 0][:4000]\n",
    "# df_people_1 = df_people[df_people['Best Performance'] == 1]\n",
    "\n",
    "# df_people = pd.concat([df_people_0, df_people_1])\n",
    "\n",
    "# sns.countplot(x='Best Performance', data=df_people)\n",
    "# plt.show()"
   ]
  },
  {
   "cell_type": "markdown",
   "metadata": {},
   "source": [
    "## Preprocess Data"
   ]
  },
  {
   "cell_type": "code",
   "execution_count": 8,
   "metadata": {},
   "outputs": [
    {
     "data": {
      "image/png": "[encoded data removed]",
      "text/plain": [
       "<Figure size 576x396 with 1 Axes>"
      ]
     },
     "metadata": {},
     "output_type": "display_data"
    }
   ],
   "source": [
    "sns.countplot(x='Best Performance', data=df_people)\n",
    "plt.show()"
   ]
  },
  {
   "cell_type": "code",
   "execution_count": 9,
   "metadata": {},
   "outputs": [
    {
     "name": "stdout",
     "output_type": "stream",
     "text": [
      "Total rows: 11798\n",
      "Total features: 28\n"
     ]
    }
   ],
   "source": [
    "# drop missing values\n",
    "df_people = df_people.dropna()\n",
    "\n",
    "print('Total rows:', df_people.shape[0])\n",
    "print('Total features:', df_people.shape[1])"
   ]
  },
  {
   "cell_type": "code",
   "execution_count": 10,
   "metadata": {},
   "outputs": [
    {
     "data": {
      "image/png": "[encoded data removed]",
      "text/plain": [
       "<Figure size 576x396 with 1 Axes>"
      ]
     },
     "metadata": {},
     "output_type": "display_data"
    }
   ],
   "source": [
    "sns.countplot(x='Best Performance', data=df_people)\n",
    "plt.show()"
   ]
  },
  {
   "cell_type": "code",
   "execution_count": 11,
   "metadata": {},
   "outputs": [],
   "source": [
    "# convert year birth into age\n",
    "now = datetime.datetime.now()\n",
    "current_year = now.year\n",
    "df_people['age'] = current_year - df_people['age']\n",
    "\n",
    "# change Y/N into 1/0\n",
    "df_people['marital_status_maried(Y/N)'] = df_people['marital_status_maried(Y/N)'].map(dict(Y=1, N=0))\n",
    "\n",
    "# change text into score\n",
    "df_target = df_people['achievement_target_1']\n",
    "\n",
    "df_target[df_target == 'Tidak diberikan target'] = 0\n",
    "df_target[df_target == 'achiev_< 50%'] = 1; df_target[df_target == 'Pencapaian < 50%'] = 1\n",
    "df_target[df_target == 'achiev_> 1.5'] = 1.5; df_target[df_target == 'Pencapaian > 1.5'] = 1.5\n",
    "df_target[df_target == 'achiev_50%-100%'] = 2; df_target[df_target == 'Pencapaian 50%-100%'] = 2\n",
    "df_target[df_target == 'achiev_100%-150%'] = 3; df_target[df_target == 'Pencapaian 100%-150%'] = 3\n",
    "\n",
    "df_target = df_people['achievement_target_2']\n",
    "\n",
    "df_target[df_target == 'Tidak diberikan target'] = 0\n",
    "df_target[df_target == 'achiev_< 50%'] = 1; df_target[df_target == 'Pencapaian < 50%'] = 1\n",
    "df_target[df_target == 'achiev_> 1.5'] = 1.5; df_target[df_target == 'Pencapaian > 1.5'] = 1.5\n",
    "df_target[df_target == 'achiev_50%-100%'] = 2; df_target[df_target == 'Pencapaian 50%-100%'] = 2\n",
    "df_target[df_target == 'achiev_100%-150%'] = 3; df_target[df_target == 'Pencapaian 100%-150%'] = 3\n",
    "\n",
    "df_target = df_people['achievement_target_3']\n",
    "\n",
    "df_target[df_target == 'not_reached'] = 0\n",
    "df_target[df_target == 'not reached'] = 0\n",
    "df_target[df_target == 'reached'] = 1"
   ]
  },
  {
   "cell_type": "code",
   "execution_count": 12,
   "metadata": {},
   "outputs": [],
   "source": [
    "# process categorical data (one-hot-encoding)\n",
    "cat_vars = ['Employee_type', 'Employee_status', 'gender']\n",
    "for var in cat_vars:\n",
    "    data_dummies = pd.get_dummies(df_people[var], prefix=var)\n",
    "    df_people = pd.concat([df_people, data_dummies], axis=1)"
   ]
  },
  {
   "cell_type": "code",
   "execution_count": 13,
   "metadata": {},
   "outputs": [
    {
     "data": {
      "text/html": [
       "<div>\n",
       "<style scoped>\n",
       "    .dataframe tbody tr th:only-of-type {\n",
       "        vertical-align: middle;\n",
       "    }\n",
       "\n",
       "    .dataframe tbody tr th {\n",
       "        vertical-align: top;\n",
       "    }\n",
       "\n",
       "    .dataframe thead th {\n",
       "        text-align: right;\n",
       "    }\n",
       "</style>\n",
       "<table border=\"1\" class=\"dataframe\">\n",
       "  <thead>\n",
       "    <tr style=\"text-align: right;\">\n",
       "      <th></th>\n",
       "      <th>job_level</th>\n",
       "      <th>job_duration_in_current_job_level</th>\n",
       "      <th>person_level</th>\n",
       "      <th>job_duration_in_current_person_level</th>\n",
       "      <th>job_duration_in_current_branch</th>\n",
       "      <th>age</th>\n",
       "      <th>marital_status_maried(Y/N)</th>\n",
       "      <th>number_of_dependences</th>\n",
       "      <th>number_of_dependences (male)</th>\n",
       "      <th>number_of_dependences (female)</th>\n",
       "      <th>...</th>\n",
       "      <th>achievement_target_1</th>\n",
       "      <th>achievement_target_2</th>\n",
       "      <th>achievement_target_3</th>\n",
       "      <th>Best Performance</th>\n",
       "      <th>Employee_type_RM_type_A</th>\n",
       "      <th>Employee_type_RM_type_B</th>\n",
       "      <th>Employee_type_RM_type_C</th>\n",
       "      <th>Employee_status_Permanent</th>\n",
       "      <th>gender_Female</th>\n",
       "      <th>gender_Male</th>\n",
       "    </tr>\n",
       "  </thead>\n",
       "  <tbody>\n",
       "    <tr>\n",
       "      <th>0</th>\n",
       "      <td>JG05</td>\n",
       "      <td>8.00</td>\n",
       "      <td>PG06</td>\n",
       "      <td>8.00</td>\n",
       "      <td>0.50</td>\n",
       "      <td>56</td>\n",
       "      <td>1</td>\n",
       "      <td>3</td>\n",
       "      <td>1</td>\n",
       "      <td>2</td>\n",
       "      <td>...</td>\n",
       "      <td>2</td>\n",
       "      <td>1</td>\n",
       "      <td>1</td>\n",
       "      <td>0</td>\n",
       "      <td>1</td>\n",
       "      <td>0</td>\n",
       "      <td>0</td>\n",
       "      <td>1</td>\n",
       "      <td>1</td>\n",
       "      <td>0</td>\n",
       "    </tr>\n",
       "    <tr>\n",
       "      <th>1</th>\n",
       "      <td>JG04</td>\n",
       "      <td>5.17</td>\n",
       "      <td>PG04</td>\n",
       "      <td>2.00</td>\n",
       "      <td>1.25</td>\n",
       "      <td>41</td>\n",
       "      <td>1</td>\n",
       "      <td>3</td>\n",
       "      <td>2</td>\n",
       "      <td>1</td>\n",
       "      <td>...</td>\n",
       "      <td>2</td>\n",
       "      <td>2</td>\n",
       "      <td>1</td>\n",
       "      <td>0</td>\n",
       "      <td>1</td>\n",
       "      <td>0</td>\n",
       "      <td>0</td>\n",
       "      <td>1</td>\n",
       "      <td>0</td>\n",
       "      <td>1</td>\n",
       "    </tr>\n",
       "    <tr>\n",
       "      <th>2</th>\n",
       "      <td>JG04</td>\n",
       "      <td>1.83</td>\n",
       "      <td>PG03</td>\n",
       "      <td>1.83</td>\n",
       "      <td>1.50</td>\n",
       "      <td>40</td>\n",
       "      <td>1</td>\n",
       "      <td>1</td>\n",
       "      <td>0</td>\n",
       "      <td>1</td>\n",
       "      <td>...</td>\n",
       "      <td>3</td>\n",
       "      <td>1</td>\n",
       "      <td>0</td>\n",
       "      <td>0</td>\n",
       "      <td>1</td>\n",
       "      <td>0</td>\n",
       "      <td>0</td>\n",
       "      <td>1</td>\n",
       "      <td>0</td>\n",
       "      <td>1</td>\n",
       "    </tr>\n",
       "    <tr>\n",
       "      <th>3</th>\n",
       "      <td>JG04</td>\n",
       "      <td>7.92</td>\n",
       "      <td>PG04</td>\n",
       "      <td>4.00</td>\n",
       "      <td>0.17</td>\n",
       "      <td>36</td>\n",
       "      <td>1</td>\n",
       "      <td>0</td>\n",
       "      <td>0</td>\n",
       "      <td>0</td>\n",
       "      <td>...</td>\n",
       "      <td>2</td>\n",
       "      <td>2</td>\n",
       "      <td>0</td>\n",
       "      <td>0</td>\n",
       "      <td>1</td>\n",
       "      <td>0</td>\n",
       "      <td>0</td>\n",
       "      <td>1</td>\n",
       "      <td>0</td>\n",
       "      <td>1</td>\n",
       "    </tr>\n",
       "    <tr>\n",
       "      <th>6</th>\n",
       "      <td>JG04</td>\n",
       "      <td>1.75</td>\n",
       "      <td>PG03</td>\n",
       "      <td>1.75</td>\n",
       "      <td>1.33</td>\n",
       "      <td>34</td>\n",
       "      <td>0</td>\n",
       "      <td>0</td>\n",
       "      <td>0</td>\n",
       "      <td>0</td>\n",
       "      <td>...</td>\n",
       "      <td>2</td>\n",
       "      <td>1</td>\n",
       "      <td>1</td>\n",
       "      <td>1</td>\n",
       "      <td>0</td>\n",
       "      <td>1</td>\n",
       "      <td>0</td>\n",
       "      <td>1</td>\n",
       "      <td>1</td>\n",
       "      <td>0</td>\n",
       "    </tr>\n",
       "  </tbody>\n",
       "</table>\n",
       "<p>5 rows × 31 columns</p>\n",
       "</div>"
      ],
      "text/plain": [
       "  job_level  job_duration_in_current_job_level person_level  \\\n",
       "0      JG05                               8.00         PG06   \n",
       "1      JG04                               5.17         PG04   \n",
       "2      JG04                               1.83         PG03   \n",
       "3      JG04                               7.92         PG04   \n",
       "6      JG04                               1.75         PG03   \n",
       "\n",
       "   job_duration_in_current_person_level  job_duration_in_current_branch  age  \\\n",
       "0                                  8.00                            0.50   56   \n",
       "1                                  2.00                            1.25   41   \n",
       "2                                  1.83                            1.50   40   \n",
       "3                                  4.00                            0.17   36   \n",
       "6                                  1.75                            1.33   34   \n",
       "\n",
       "   marital_status_maried(Y/N)  number_of_dependences  \\\n",
       "0                           1                      3   \n",
       "1                           1                      3   \n",
       "2                           1                      1   \n",
       "3                           1                      0   \n",
       "6                           0                      0   \n",
       "\n",
       "   number_of_dependences (male)  number_of_dependences (female)  ...  \\\n",
       "0                             1                               2  ...   \n",
       "1                             2                               1  ...   \n",
       "2                             0                               1  ...   \n",
       "3                             0                               0  ...   \n",
       "6                             0                               0  ...   \n",
       "\n",
       "   achievement_target_1  achievement_target_2  achievement_target_3  \\\n",
       "0                     2                     1                     1   \n",
       "1                     2                     2                     1   \n",
       "2                     3                     1                     0   \n",
       "3                     2                     2                     0   \n",
       "6                     2                     1                     1   \n",
       "\n",
       "   Best Performance  Employee_type_RM_type_A  Employee_type_RM_type_B  \\\n",
       "0                 0                        1                        0   \n",
       "1                 0                        1                        0   \n",
       "2                 0                        1                        0   \n",
       "3                 0                        1                        0   \n",
       "6                 1                        0                        1   \n",
       "\n",
       "   Employee_type_RM_type_C  Employee_status_Permanent  gender_Female  \\\n",
       "0                        0                          1              1   \n",
       "1                        0                          1              0   \n",
       "2                        0                          1              0   \n",
       "3                        0                          1              0   \n",
       "6                        0                          1              1   \n",
       "\n",
       "   gender_Male  \n",
       "0            0  \n",
       "1            1  \n",
       "2            1  \n",
       "3            1  \n",
       "6            0  \n",
       "\n",
       "[5 rows x 31 columns]"
      ]
     },
     "execution_count": 13,
     "metadata": {},
     "output_type": "execute_result"
    }
   ],
   "source": [
    "# remove categorical data\n",
    "data_vars = df_people.columns.values.tolist()\n",
    "to_keep = [i for i in data_vars if i not in cat_vars] # filter process\n",
    "\n",
    "df_people = df_people[to_keep]\n",
    "df_people.head()"
   ]
  },
  {
   "cell_type": "code",
   "execution_count": 14,
   "metadata": {},
   "outputs": [],
   "source": [
    "# process categorical data (label-encoding)\n",
    "le = LabelEncoder()\n",
    "\n",
    "df_people['jl_label'] = le.fit_transform(df_people.loc[:, 'job_level'])\n",
    "df_people['pl_label'] = le.fit_transform(df_people.loc[:, 'person_level'])"
   ]
  },
  {
   "cell_type": "code",
   "execution_count": 15,
   "metadata": {},
   "outputs": [
    {
     "data": {
      "text/html": [
       "<div>\n",
       "<style scoped>\n",
       "    .dataframe tbody tr th:only-of-type {\n",
       "        vertical-align: middle;\n",
       "    }\n",
       "\n",
       "    .dataframe tbody tr th {\n",
       "        vertical-align: top;\n",
       "    }\n",
       "\n",
       "    .dataframe thead th {\n",
       "        text-align: right;\n",
       "    }\n",
       "</style>\n",
       "<table border=\"1\" class=\"dataframe\">\n",
       "  <thead>\n",
       "    <tr style=\"text-align: right;\">\n",
       "      <th></th>\n",
       "      <th>job_duration_in_current_job_level</th>\n",
       "      <th>job_duration_in_current_person_level</th>\n",
       "      <th>job_duration_in_current_branch</th>\n",
       "      <th>age</th>\n",
       "      <th>marital_status_maried(Y/N)</th>\n",
       "      <th>number_of_dependences</th>\n",
       "      <th>number_of_dependences (male)</th>\n",
       "      <th>number_of_dependences (female)</th>\n",
       "      <th>GPA</th>\n",
       "      <th>job_duration_as_permanent_worker</th>\n",
       "      <th>...</th>\n",
       "      <th>achievement_target_3</th>\n",
       "      <th>Best Performance</th>\n",
       "      <th>Employee_type_RM_type_A</th>\n",
       "      <th>Employee_type_RM_type_B</th>\n",
       "      <th>Employee_type_RM_type_C</th>\n",
       "      <th>Employee_status_Permanent</th>\n",
       "      <th>gender_Female</th>\n",
       "      <th>gender_Male</th>\n",
       "      <th>jl_label</th>\n",
       "      <th>pl_label</th>\n",
       "    </tr>\n",
       "  </thead>\n",
       "  <tbody>\n",
       "    <tr>\n",
       "      <th>0</th>\n",
       "      <td>8.00</td>\n",
       "      <td>8.00</td>\n",
       "      <td>0.50</td>\n",
       "      <td>56</td>\n",
       "      <td>1</td>\n",
       "      <td>3</td>\n",
       "      <td>1</td>\n",
       "      <td>2</td>\n",
       "      <td>2.32</td>\n",
       "      <td>30.0</td>\n",
       "      <td>...</td>\n",
       "      <td>1</td>\n",
       "      <td>0</td>\n",
       "      <td>1</td>\n",
       "      <td>0</td>\n",
       "      <td>0</td>\n",
       "      <td>1</td>\n",
       "      <td>1</td>\n",
       "      <td>0</td>\n",
       "      <td>2</td>\n",
       "      <td>5</td>\n",
       "    </tr>\n",
       "    <tr>\n",
       "      <th>1</th>\n",
       "      <td>5.17</td>\n",
       "      <td>2.00</td>\n",
       "      <td>1.25</td>\n",
       "      <td>41</td>\n",
       "      <td>1</td>\n",
       "      <td>3</td>\n",
       "      <td>2</td>\n",
       "      <td>1</td>\n",
       "      <td>3.25</td>\n",
       "      <td>15.0</td>\n",
       "      <td>...</td>\n",
       "      <td>1</td>\n",
       "      <td>0</td>\n",
       "      <td>1</td>\n",
       "      <td>0</td>\n",
       "      <td>0</td>\n",
       "      <td>1</td>\n",
       "      <td>0</td>\n",
       "      <td>1</td>\n",
       "      <td>1</td>\n",
       "      <td>3</td>\n",
       "    </tr>\n",
       "    <tr>\n",
       "      <th>2</th>\n",
       "      <td>1.83</td>\n",
       "      <td>1.83</td>\n",
       "      <td>1.50</td>\n",
       "      <td>40</td>\n",
       "      <td>1</td>\n",
       "      <td>1</td>\n",
       "      <td>0</td>\n",
       "      <td>1</td>\n",
       "      <td>3.23</td>\n",
       "      <td>15.0</td>\n",
       "      <td>...</td>\n",
       "      <td>0</td>\n",
       "      <td>0</td>\n",
       "      <td>1</td>\n",
       "      <td>0</td>\n",
       "      <td>0</td>\n",
       "      <td>1</td>\n",
       "      <td>0</td>\n",
       "      <td>1</td>\n",
       "      <td>1</td>\n",
       "      <td>2</td>\n",
       "    </tr>\n",
       "    <tr>\n",
       "      <th>3</th>\n",
       "      <td>7.92</td>\n",
       "      <td>4.00</td>\n",
       "      <td>0.17</td>\n",
       "      <td>36</td>\n",
       "      <td>1</td>\n",
       "      <td>0</td>\n",
       "      <td>0</td>\n",
       "      <td>0</td>\n",
       "      <td>0.00</td>\n",
       "      <td>8.0</td>\n",
       "      <td>...</td>\n",
       "      <td>0</td>\n",
       "      <td>0</td>\n",
       "      <td>1</td>\n",
       "      <td>0</td>\n",
       "      <td>0</td>\n",
       "      <td>1</td>\n",
       "      <td>0</td>\n",
       "      <td>1</td>\n",
       "      <td>1</td>\n",
       "      <td>3</td>\n",
       "    </tr>\n",
       "    <tr>\n",
       "      <th>6</th>\n",
       "      <td>1.75</td>\n",
       "      <td>1.75</td>\n",
       "      <td>1.33</td>\n",
       "      <td>34</td>\n",
       "      <td>0</td>\n",
       "      <td>0</td>\n",
       "      <td>0</td>\n",
       "      <td>0</td>\n",
       "      <td>3.65</td>\n",
       "      <td>6.0</td>\n",
       "      <td>...</td>\n",
       "      <td>1</td>\n",
       "      <td>1</td>\n",
       "      <td>0</td>\n",
       "      <td>1</td>\n",
       "      <td>0</td>\n",
       "      <td>1</td>\n",
       "      <td>1</td>\n",
       "      <td>0</td>\n",
       "      <td>1</td>\n",
       "      <td>2</td>\n",
       "    </tr>\n",
       "  </tbody>\n",
       "</table>\n",
       "<p>5 rows × 31 columns</p>\n",
       "</div>"
      ],
      "text/plain": [
       "   job_duration_in_current_job_level  job_duration_in_current_person_level  \\\n",
       "0                               8.00                                  8.00   \n",
       "1                               5.17                                  2.00   \n",
       "2                               1.83                                  1.83   \n",
       "3                               7.92                                  4.00   \n",
       "6                               1.75                                  1.75   \n",
       "\n",
       "   job_duration_in_current_branch  age  marital_status_maried(Y/N)  \\\n",
       "0                            0.50   56                           1   \n",
       "1                            1.25   41                           1   \n",
       "2                            1.50   40                           1   \n",
       "3                            0.17   36                           1   \n",
       "6                            1.33   34                           0   \n",
       "\n",
       "   number_of_dependences  number_of_dependences (male)  \\\n",
       "0                      3                             1   \n",
       "1                      3                             2   \n",
       "2                      1                             0   \n",
       "3                      0                             0   \n",
       "6                      0                             0   \n",
       "\n",
       "   number_of_dependences (female)   GPA  job_duration_as_permanent_worker  \\\n",
       "0                               2  2.32                              30.0   \n",
       "1                               1  3.25                              15.0   \n",
       "2                               1  3.23                              15.0   \n",
       "3                               0  0.00                               8.0   \n",
       "6                               0  3.65                               6.0   \n",
       "\n",
       "   ...  achievement_target_3  Best Performance  Employee_type_RM_type_A  \\\n",
       "0  ...                     1                 0                        1   \n",
       "1  ...                     1                 0                        1   \n",
       "2  ...                     0                 0                        1   \n",
       "3  ...                     0                 0                        1   \n",
       "6  ...                     1                 1                        0   \n",
       "\n",
       "   Employee_type_RM_type_B  Employee_type_RM_type_C  \\\n",
       "0                        0                        0   \n",
       "1                        0                        0   \n",
       "2                        0                        0   \n",
       "3                        0                        0   \n",
       "6                        1                        0   \n",
       "\n",
       "   Employee_status_Permanent  gender_Female  gender_Male  jl_label pl_label  \n",
       "0                          1              1            0         2        5  \n",
       "1                          1              0            1         1        3  \n",
       "2                          1              0            1         1        2  \n",
       "3                          1              0            1         1        3  \n",
       "6                          1              1            0         1        2  \n",
       "\n",
       "[5 rows x 31 columns]"
      ]
     },
     "execution_count": 15,
     "metadata": {},
     "output_type": "execute_result"
    }
   ],
   "source": [
    "# remove categorical data\n",
    "del df_people['job_level']\n",
    "del df_people['person_level']\n",
    "\n",
    "df_people.head()"
   ]
  },
  {
   "cell_type": "code",
   "execution_count": 16,
   "metadata": {},
   "outputs": [],
   "source": [
    "data_vars = df_people.columns.values.tolist()\n",
    "y = ['Best Performance']\n",
    "X = [i for i in data_vars if i not in y]"
   ]
  },
  {
   "cell_type": "code",
   "execution_count": 17,
   "metadata": {},
   "outputs": [],
   "source": [
    "from sklearn.model_selection import train_test_split\n",
    "\n",
    "X_train, X_test, y_train, y_test = train_test_split(df_people[X], df_people[y], test_size=0.3, random_state=seed)"
   ]
  },
  {
   "cell_type": "code",
   "execution_count": 18,
   "metadata": {},
   "outputs": [
    {
     "data": {
      "image/png": "[encoded data removed]",
      "text/plain": [
       "<Figure size 576x396 with 1 Axes>"
      ]
     },
     "metadata": {},
     "output_type": "display_data"
    }
   ],
   "source": [
    "sns.countplot(x='Best Performance', data=y_train)\n",
    "plt.show()"
   ]
  },
  {
   "cell_type": "code",
   "execution_count": 19,
   "metadata": {},
   "outputs": [],
   "source": [
    "# under-sampling\n",
    "# Xy_train = pd.concat([X_train, y_train], axis=1)\n",
    "# Xy_train_0 = Xy_train[Xy_train['Best Performance'] == 0][:2000]\n",
    "# Xy_train_1 = Xy_train[Xy_train['Best Performance'] == 1]\n",
    "\n",
    "# Xy_train = pd.concat([Xy_train_0, Xy_train_1])\n",
    "\n",
    "# X_train = Xy_train[Xy_train.columns[:-1]]\n",
    "# y_train = Xy_train[['Best Performance']]"
   ]
  },
  {
   "cell_type": "code",
   "execution_count": 20,
   "metadata": {},
   "outputs": [],
   "source": [
    "# sns.countplot(x='Best Performance', data=y_train)\n",
    "# plt.show()"
   ]
  },
  {
   "cell_type": "markdown",
   "metadata": {},
   "source": [
    "## Train Model"
   ]
  },
  {
   "cell_type": "code",
   "execution_count": 21,
   "metadata": {},
   "outputs": [
    {
     "data": {
      "text/plain": [
       "EasyEnsembleClassifier(random_state=20, sampling_strategy='majority')"
      ]
     },
     "execution_count": 21,
     "metadata": {},
     "output_type": "execute_result"
    }
   ],
   "source": [
    "from sklearn.ensemble import RandomForestClassifier, AdaBoostClassifier\n",
    "from imblearn.ensemble import BalancedRandomForestClassifier, BalancedBaggingClassifier, EasyEnsembleClassifier\n",
    "\n",
    "rf_clf_ = BalancedRandomForestClassifier(max_features='log2', n_estimators=10, random_state=seed)\n",
    "rf_clf = EasyEnsembleClassifier(n_estimators=10, sampling_strategy='majority', random_state=seed)\n",
    "\n",
    "rf_clf_.fit(X_train, y_train)\n",
    "rf_clf.fit(X_train, y_train)"
   ]
  },
  {
   "cell_type": "markdown",
   "metadata": {},
   "source": [
    "## Evaluate Model"
   ]
  },
  {
   "cell_type": "code",
   "execution_count": 22,
   "metadata": {},
   "outputs": [
    {
     "name": "stdout",
     "output_type": "stream",
     "text": [
      "Random Forest ROC AUC: 0.597\n",
      "Best Threshold: 0.49979453276477404\n",
      "\n"
     ]
    },
    {
     "data": {
      "image/png": "[encoded data removed]",
      "text/plain": [
       "<Figure size 576x396 with 1 Axes>"
      ]
     },
     "metadata": {},
     "output_type": "display_data"
    }
   ],
   "source": [
    "rf_probs = rf_clf.predict_proba(X_test)\n",
    "y_pred = rf_probs[:, 1]\n",
    "\n",
    "# set threshold\n",
    "rf_auc = roc_auc_score(y_test, y_pred)\n",
    "\n",
    "print(f'Random Forest ROC AUC: {rf_auc:.3f}')\n",
    "\n",
    "fpr_rf, tpr_rf, thresholds_rf = roc_curve(y_test, y_pred)\n",
    "roc_auc_rf = auc(fpr_rf, tpr_rf)\n",
    "\n",
    "# get the best threshold for testing\n",
    "J = tpr_rf - fpr_rf\n",
    "ix = np.argmax(J)\n",
    "best_threshold = thresholds_rf[ix]\n",
    "print(f'Best Threshold: {best_threshold}\\n')\n",
    "\n",
    "plt.figure(1)\n",
    "plt.plot([0, 1], [0, 1], 'k--')\n",
    "plt.plot(fpr_rf, tpr_rf, label=f'Random Forest (area = {roc_auc_rf:.3f}%)')\n",
    "plt.scatter(fpr_rf[ix], tpr_rf[ix], marker='o', color='black', label='Best')\n",
    "plt.xlabel('False positive rate')\n",
    "plt.ylabel('True positive rate')\n",
    "plt.title('ROC curve')\n",
    "plt.legend(loc='best')\n",
    "plt.show()"
   ]
  },
  {
   "cell_type": "code",
   "execution_count": 23,
   "metadata": {},
   "outputs": [
    {
     "name": "stdout",
     "output_type": "stream",
     "text": [
      "              precision    recall  f1-score   support\n",
      "\n",
      "           0       0.89      0.52      0.66      3039\n",
      "           1       0.18      0.62      0.28       501\n",
      "\n",
      "    accuracy                           0.54      3540\n",
      "   macro avg       0.54      0.57      0.47      3540\n",
      "weighted avg       0.79      0.54      0.61      3540\n",
      "\n"
     ]
    }
   ],
   "source": [
    "y_pred[y_pred >= best_threshold] = 1\n",
    "y_pred[y_pred < best_threshold] = 0\n",
    "\n",
    "print(classification_report(y_test, y_pred))"
   ]
  },
  {
   "cell_type": "code",
   "execution_count": 24,
   "metadata": {},
   "outputs": [
    {
     "data": {
      "text/plain": [
       "<matplotlib.axes._subplots.AxesSubplot at 0x7f916e4551c0>"
      ]
     },
     "execution_count": 24,
     "metadata": {},
     "output_type": "execute_result"
    },
    {
     "data": {
      "image/png": "[encoded data removed]",
      "text/plain": [
       "<Figure size 576x396 with 2 Axes>"
      ]
     },
     "metadata": {},
     "output_type": "display_data"
    }
   ],
   "source": [
    "cf_matrix = confusion_matrix(y_test, y_pred)\n",
    "\n",
    "group_names = [\"True Negative\", \"False Positive\", \"False Negative\", \"True Positive\"]\n",
    "group_counts = [\"{0:0.0f}\".format(value) for value in cf_matrix.flatten()]\n",
    "group_percentages = [\"{0:.2%}\".format(value) for value in cf_matrix.flatten()/np.sum(cf_matrix)]\n",
    "\n",
    "labels = [f\"{v1}\\n{v2}\\n{v3}\" for v1, v2, v3 in zip(group_names,group_counts,group_percentages)]\n",
    "labels = np.asarray(labels).reshape(2,2)\n",
    "\n",
    "sns.heatmap(cf_matrix, annot=labels, fmt='', cmap='Blues')"
   ]
  },
  {
   "cell_type": "code",
   "execution_count": 25,
   "metadata": {},
   "outputs": [
    {
     "data": {
      "text/plain": [
       "<matplotlib.axes._subplots.AxesSubplot at 0x7f916edc7e20>"
      ]
     },
     "execution_count": 25,
     "metadata": {},
     "output_type": "execute_result"
    },
    {
     "data": {
      "image/png": "[encoded data removed]",
      "text/plain": [
       "<Figure size 576x396 with 1 Axes>"
      ]
     },
     "metadata": {},
     "output_type": "display_data"
    }
   ],
   "source": [
    "importance_scores = rf_clf_.feature_importances_\n",
    "indices = np.argsort(importance_scores)\n",
    "\n",
    "feature_importances = pd.Series(importance_scores, index=X)\n",
    "feature_importances.nlargest(len(X)).plot(kind='barh')"
   ]
  },
  {
   "cell_type": "markdown",
   "metadata": {},
   "source": [
    "## Predict!"
   ]
  },
  {
   "cell_type": "code",
   "execution_count": 26,
   "metadata": {},
   "outputs": [],
   "source": [
    "df_people = pd.read_csv(\"./test.csv\")"
   ]
  },
  {
   "cell_type": "code",
   "execution_count": 27,
   "metadata": {},
   "outputs": [],
   "source": [
    "columns_to_keep = ['job_level', 'job_duration_in_current_job_level', 'person_level', \n",
    "                   'job_duration_in_current_person_level', 'job_duration_in_current_branch', 'Employee_type', \n",
    "                   'Employee_status', 'gender', 'age', 'marital_status_maried(Y/N)', 'number_of_dependences', \n",
    "                   'number_of_dependences (male)', 'number_of_dependences (female)', 'GPA', \n",
    "                   'job_duration_as_permanent_worker', 'job_duration_from_training', 'branch_rotation', \n",
    "                   'job_rotation', 'assign_of_otherposition', 'annual leave', 'sick_leaves', 'Avg_achievement_%', \n",
    "                   'Last_achievement_%', 'Achievement_above_100%_during3quartal', 'achievement_target_1', \n",
    "                   'achievement_target_2', 'achievement_target_3']\n",
    "\n",
    "df_people = df_people[columns_to_keep]\n",
    "\n",
    "# convert year birth into age\n",
    "now = datetime.datetime.now()\n",
    "current_year = now.year\n",
    "df_people['age'] = current_year - df_people['age']\n",
    "\n",
    "# change Y/N into 1/0\n",
    "df_people['marital_status_maried(Y/N)'] = df_people['marital_status_maried(Y/N)'].map(dict(Y=1, N=0))\n",
    "\n",
    "# change text into score\n",
    "df_target = df_people['achievement_target_1']\n",
    "\n",
    "df_target[df_target == 'Tidak diberikan target'] = 0\n",
    "df_target[df_target == 'achiev_< 50%'] = 1; df_target[df_target == 'Pencapaian < 50%'] = 1\n",
    "df_target[df_target == 'achiev_> 1.5'] = 1.5; df_target[df_target == 'Pencapaian > 1.5'] = 1.5\n",
    "df_target[df_target == 'achiev_50%-100%'] = 2; df_target[df_target == 'Pencapaian 50%-100%'] = 2\n",
    "df_target[df_target == 'achiev_100%-150%'] = 3; df_target[df_target == 'Pencapaian 100%-150%'] = 3\n",
    "\n",
    "df_target = df_people['achievement_target_2']\n",
    "\n",
    "df_target[df_target == 'Tidak diberikan target'] = 0\n",
    "df_target[df_target == 'achiev_< 50%'] = 1; df_target[df_target == 'Pencapaian < 50%'] = 1\n",
    "df_target[df_target == 'achiev_> 1.5'] = 1.5; df_target[df_target == 'Pencapaian > 1.5'] = 1.5\n",
    "df_target[df_target == 'achiev_50%-100%'] = 2; df_target[df_target == 'Pencapaian 50%-100%'] = 2\n",
    "df_target[df_target == 'achiev_100%-150%'] = 3; df_target[df_target == 'Pencapaian 100%-150%'] = 3\n",
    "\n",
    "df_target = df_people['achievement_target_3']\n",
    "\n",
    "df_target[df_target == 'not_reached'] = 0\n",
    "df_target[df_target == 'not reached'] = 0\n",
    "df_target[df_target == 'reached'] = 1\n",
    "\n",
    "# process categorical data (one-hot-encoding)\n",
    "cat_vars = ['Employee_type', 'Employee_status', 'gender']\n",
    "for var in cat_vars:\n",
    "    data_dummies = pd.get_dummies(df_people[var], prefix=var)\n",
    "    df_people = pd.concat([df_people, data_dummies], axis=1)\n",
    "    \n",
    "# remove categorical data\n",
    "data_vars = df_people.columns.values.tolist()\n",
    "to_keep = [i for i in data_vars if i not in cat_vars] # filter process\n",
    "\n",
    "df_people = df_people[to_keep]\n",
    "\n",
    "# process categorical data (label-encoding)\n",
    "le = LabelEncoder()\n",
    "\n",
    "df_people['jl_label'] = le.fit_transform(df_people.loc[:, 'job_level'])\n",
    "df_people['pl_label'] = le.fit_transform(df_people.loc[:, 'person_level'])\n",
    "\n",
    "# remove categorical data\n",
    "del df_people['job_level']\n",
    "del df_people['person_level']\n",
    "\n",
    "data_vars = df_people.columns.values.tolist()\n",
    "\n",
    "X_test = df_people[data_vars]"
   ]
  },
  {
   "cell_type": "code",
   "execution_count": 28,
   "metadata": {},
   "outputs": [],
   "source": [
    "rf_probs = rf_clf.predict_proba(X_test)\n",
    "predictions = rf_probs[:, 1]\n",
    "\n",
    "# set threshold\n",
    "predictions[predictions > best_threshold] = 1\n",
    "predictions[predictions < best_threshold] = 0"
   ]
  },
  {
   "cell_type": "code",
   "execution_count": 29,
   "metadata": {},
   "outputs": [
    {
     "name": "stdout",
     "output_type": "stream",
     "text": [
      "Total best performance of 6000: 2861\n"
     ]
    }
   ],
   "source": [
    "best = np.sum(predictions == 1)\n",
    "not_best = np.sum(predictions == 0)\n",
    "\n",
    "print(f'Total best performance of {best+not_best}: {best}')"
   ]
  },
  {
   "cell_type": "markdown",
   "metadata": {},
   "source": [
    "## Create Submission"
   ]
  },
  {
   "cell_type": "code",
   "execution_count": 30,
   "metadata": {},
   "outputs": [],
   "source": [
    "f = open(\"new_submission.csv\",\"w+\")"
   ]
  },
  {
   "cell_type": "code",
   "execution_count": 31,
   "metadata": {},
   "outputs": [],
   "source": [
    "f.write(\"index,Best Performance\\n\")\n",
    "\n",
    "for i in range(len(predictions)): \n",
    "    \n",
    "    f.write(f\"{i},{predictions[i]}\\n\") \n",
    "    \n",
    "f.close()"
   ]
  },
  {
   "cell_type": "markdown",
   "metadata": {},
   "source": [
    "---"
   ]
  }
 ],
 "metadata": {
  "kernelspec": {
   "display_name": "Python 3",
   "language": "python",
   "name": "python3"
  },
  "language_info": {
   "codemirror_mode": {
    "name": "ipython",
    "version": 3
   },
   "file_extension": ".py",
   "mimetype": "text/x-python",
   "name": "python",
   "nbconvert_exporter": "python",
   "pygments_lexer": "ipython3",
   "version": "3.8.3"
  }
 },
 "nbformat": 4,
 "nbformat_minor": 4
}
